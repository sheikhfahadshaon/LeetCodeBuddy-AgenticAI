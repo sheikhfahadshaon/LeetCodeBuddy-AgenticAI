{
 "cells": [
  {
   "cell_type": "code",
   "execution_count": 63,
   "id": "ec10cfb8",
   "metadata": {
    "vscode": {
     "languageId": "plaintext"
    }
   },
   "outputs": [],
   "source": [
    "%%capture --no-stderr\n",
    "%pip install --quiet -U langgraph langchain_google_genai langchain_community langchain_core tavily-python wikipedia"
   ]
  },
  {
   "cell_type": "code",
   "execution_count": 64,
   "id": "4eae0abf-5223-4435-a5c3-d49d2541423c",
   "metadata": {},
   "outputs": [
    {
     "data": {
      "text/plain": [
       "True"
      ]
     },
     "execution_count": 64,
     "metadata": {},
     "output_type": "execute_result"
    }
   ],
   "source": [
    "from dotenv import load_dotenv\n",
    "\n",
    "load_dotenv()"
   ]
  },
  {
   "cell_type": "code",
   "execution_count": 65,
   "id": "e2558a12-8925-45a7-ae28-f9f345825691",
   "metadata": {},
   "outputs": [],
   "source": [
    "import os\n",
    "import json\n",
    "import requests\n",
    "from typing import Dict, List, Optional, TypedDict, Annotated, Union\n",
    "from langgraph.graph import StateGraph, END\n",
    "from langgraph.graph.message import add_messages\n",
    "from langchain_core.messages import HumanMessage, AIMessage, SystemMessage\n",
    "from langchain_openai import ChatOpenAI\n",
    "from langchain_core.prompts import ChatPromptTemplate\n",
    "from langchain_core.output_parsers import JsonOutputParser"
   ]
  },
  {
   "cell_type": "code",
   "execution_count": 66,
   "id": "e773876e-b905-4bd9-a2ef-bed080d34e52",
   "metadata": {},
   "outputs": [],
   "source": [
    "class LeetCodeBuddyState(TypedDict):\n",
    "    problem_id: str\n",
    "    problem_statement: Optional[dict]\n",
    "    editorial: Optional[str]\n",
    "    problem_summary: Optional[str]\n",
    "    conversation: Annotated[List[Union[HumanMessage, AIMessage]], add_messages]"
   ]
  },
  {
   "cell_type": "code",
   "execution_count": 67,
   "id": "60b9ae8f",
   "metadata": {
    "vscode": {
     "languageId": "plaintext"
    }
   },
   "outputs": [],
   "source": [
    "from langchain_google_genai import ChatGoogleGenerativeAI\n",
    "\n",
    "llm = ChatGoogleGenerativeAI(model=\"gemini-2.5-flash\")"
   ]
  },
  {
   "cell_type": "code",
   "execution_count": null,
   "id": "e32df72c-8daa-47aa-8d12-5bd6fa12877c",
   "metadata": {},
   "outputs": [],
   "source": [
    "def html_to_text(html_content: str) -> str:\n",
    "    \"\"\"Convert HTML content into readable plain text.\"\"\"\n",
    "    soup = BeautifulSoup(html_content, \"html.parser\")\n",
    "    text = soup.get_text(separator=\"\\n\")  # keep paragraphs and line breaks\n",
    "    return text.strip()\n"
   ]
  },
  {
   "cell_type": "code",
   "execution_count": null,
   "id": "a27a853e",
   "metadata": {},
   "outputs": [],
   "source": [
    "\n",
    "\n",
    "def fetch_problem_and_editorial(state: LeetCodeBuddyState) -> LeetCodeBuddyState:\n",
    "    problem_id = state[\"problem_id\"]\n",
    "    problem_data = fetch_problem_data(problem_id)\n",
    "    editorial = fetch_editorial_text(problem_id)\n",
    "    \n",
    "    return {\n",
    "        **state,\n",
    "        \"problem_statement\": problem_data,\n",
    "        \"editorial\": editorial,\n",
    "    }\n"
   ]
  },
  {
   "cell_type": "code",
   "execution_count": null,
   "id": "d8d1d739-191b-4764-9765-ef998d0e01ee",
   "metadata": {},
   "outputs": [],
   "source": [
    "# Node 2: Summarize the problem\n",
    "def summarize_problem(state: LeetCodeBuddyState) -> LeetCodeBuddyState:\n",
    "    problem_data = state[\"problem_statement\"]\n",
    "    \n",
    "    prompt = ChatPromptTemplate.from_messages([\n",
    "        (\"system\", \"You are an expert programming tutor. Summarize the following LeetCode problem in a clear, concise way that highlights the key requirements and constraints.\"),\n",
    "        (\"human\", \"Problem: {title}\\n\\nDescription: {description}\\n\\nExample: {example}\")\n",
    "    ])\n",
    "    \n",
    "    chain = prompt | llm\n",
    "    summary = chain.invoke({\n",
    "        \"title\": problem_data.get(\"title\", \"\"),\n",
    "        \"description\": problem_data.get(\"description\", \"\"),\n",
    "        \"example\": problem_data.get(\"example\", \"\")\n",
    "    })\n",
    "    \n",
    "    return {\n",
    "        **state,\n",
    "        \"problem_summary\": summary.content.strip(),\n",
    "        \"conversation\": [AIMessage(content=f\"**Problem Summary:**\\n{summary.content}\")]\n",
    "    }"
   ]
  }
 ],
 "metadata": {
  "kernelspec": {
   "display_name": "Python 3 (ipykernel)",
   "language": "python",
   "name": "python3"
  },
  "language_info": {
   "codemirror_mode": {
    "name": "ipython",
    "version": 3
   },
   "file_extension": ".py",
   "mimetype": "text/x-python",
   "name": "python",
   "nbconvert_exporter": "python",
   "pygments_lexer": "ipython3",
   "version": "3.13.7"
  }
 },
 "nbformat": 4,
 "nbformat_minor": 5
}
