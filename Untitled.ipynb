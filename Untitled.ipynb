{
 "cells": [
  {
   "cell_type": "code",
   "execution_count": 5,
   "id": "eebc1f33-14fa-4095-bcfc-2f35ea38c733",
   "metadata": {},
   "outputs": [
    {
     "name": "stdout",
     "output_type": "stream",
     "text": [
      "Requirement already satisfied: youtube_transcript_api in c:\\users\\sheikhfahadshaon\\appdata\\local\\programs\\python\\python313\\lib\\site-packages (0.6.2)\n",
      "Requirement already satisfied: requests in c:\\users\\sheikhfahadshaon\\appdata\\local\\programs\\python\\python313\\lib\\site-packages (from youtube_transcript_api) (2.32.5)\n",
      "Requirement already satisfied: charset_normalizer<4,>=2 in c:\\users\\sheikhfahadshaon\\appdata\\local\\programs\\python\\python313\\lib\\site-packages (from requests->youtube_transcript_api) (3.4.3)\n",
      "Requirement already satisfied: idna<4,>=2.5 in c:\\users\\sheikhfahadshaon\\appdata\\local\\programs\\python\\python313\\lib\\site-packages (from requests->youtube_transcript_api) (3.10)\n",
      "Requirement already satisfied: urllib3<3,>=1.21.1 in c:\\users\\sheikhfahadshaon\\appdata\\local\\programs\\python\\python313\\lib\\site-packages (from requests->youtube_transcript_api) (2.5.0)\n",
      "Requirement already satisfied: certifi>=2017.4.17 in c:\\users\\sheikhfahadshaon\\appdata\\local\\programs\\python\\python313\\lib\\site-packages (from requests->youtube_transcript_api) (2025.10.5)\n"
     ]
    }
   ],
   "source": [
    "!pip install youtube_transcript_api\n"
   ]
  },
  {
   "cell_type": "code",
   "execution_count": 6,
   "id": "31d8b206-efb6-4afe-910e-55c2f666ed1a",
   "metadata": {},
   "outputs": [],
   "source": [
    "from youtube_transcript_api import YouTubeTranscriptApi\n",
    "\n",
    "def get_video_transcript(video_id):\n",
    "    try:\n",
    "        transcript_list = YouTubeTranscriptApi.get_transcript(video_id)\n",
    "        # transcript_list is a list of dicts: {'text': '...', 'start': 0.0, 'duration': 5.0}\n",
    "        transcript = \" \".join([item['text'] for item in transcript_list])\n",
    "        return transcript\n",
    "    except Exception as e:\n",
    "        print(f\"No transcript available: {e}\")\n",
    "        return \"\"\n"
   ]
  },
  {
   "cell_type": "code",
   "execution_count": 7,
   "id": "e3101df1-4411-4236-bb89-5b49f9face4d",
   "metadata": {},
   "outputs": [
    {
     "name": "stdout",
     "output_type": "stream",
     "text": [
      "No transcript available: no element found: line 1, column 0\n"
     ]
    }
   ],
   "source": [
    "transcript = get_video_transcript(\"j0wJBEZdwLs\")"
   ]
  },
  {
   "cell_type": "code",
   "execution_count": null,
   "id": "52228489-503c-4230-ade7-a80ca17dd019",
   "metadata": {},
   "outputs": [],
   "source": []
  }
 ],
 "metadata": {
  "kernelspec": {
   "display_name": "Python 3 (ipykernel)",
   "language": "python",
   "name": "python3"
  },
  "language_info": {
   "codemirror_mode": {
    "name": "ipython",
    "version": 3
   },
   "file_extension": ".py",
   "mimetype": "text/x-python",
   "name": "python",
   "nbconvert_exporter": "python",
   "pygments_lexer": "ipython3",
   "version": "3.13.7"
  }
 },
 "nbformat": 4,
 "nbformat_minor": 5
}
